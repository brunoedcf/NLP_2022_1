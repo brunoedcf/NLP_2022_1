{
  "nbformat": 4,
  "nbformat_minor": 0,
  "metadata": {
    "colab": {
      "name": "Multilayer_Perceptron_XOR_21_07_2022.ipynb",
      "provenance": [],
      "collapsed_sections": [],
      "authorship_tag": "ABX9TyOXC5qU74KZbfWKx3D7eqeD",
      "include_colab_link": true
    },
    "kernelspec": {
      "name": "python3",
      "display_name": "Python 3"
    },
    "language_info": {
      "name": "python"
    }
  },
  "cells": [
    {
      "cell_type": "markdown",
      "metadata": {
        "id": "view-in-github",
        "colab_type": "text"
      },
      "source": [
        "<a href=\"https://colab.research.google.com/github/brunoedcf/NLP_2022_1/blob/main/Multilayer_Perceptron_XOR_21_07_2022.ipynb\" target=\"_parent\"><img src=\"https://colab.research.google.com/assets/colab-badge.svg\" alt=\"Open In Colab\"/></a>"
      ]
    },
    {
      "cell_type": "markdown",
      "source": [
        "Source : https://www.youtube.com/watch?v=veA2P6boaO0"
      ],
      "metadata": {
        "id": "Y-_nUCiwmrby"
      }
    },
    {
      "cell_type": "code",
      "execution_count": 59,
      "metadata": {
        "id": "8wZ90U2ZONDJ"
      },
      "outputs": [],
      "source": [
        "import numpy as np\n",
        "\n",
        "# numpy.array will allow us to do mathematical operations with the arrays, reducing the use of for loops"
      ]
    },
    {
      "cell_type": "code",
      "source": [
        "# Activation function applied to all numpy.array elements\n",
        "\n",
        "def sigmoid(arr):\n",
        "  return 1/(1 + np.exp(-arr))"
      ],
      "metadata": {
        "id": "Ul55TKXiOjvL"
      },
      "execution_count": 60,
      "outputs": []
    },
    {
      "cell_type": "code",
      "source": [
        "# We pass x = numpy.array and apply the sigmoid derivative to all its elements\n",
        "\n",
        "def sigmoid_der(x):\n",
        "  return x*(1 - x)"
      ],
      "metadata": {
        "id": "YN_xH77tO6Zl"
      },
      "execution_count": 61,
      "outputs": []
    },
    {
      "cell_type": "code",
      "source": [
        "class NeuralNetwork:\n",
        "  def __init__(self, inputs):\n",
        "    self.inputs = inputs\n",
        "    self.len = len(self.inputs)\n",
        "    self.len_inputs = len(self.inputs[0]) # For XOR problem it will be 2. Example: [1, 0] or [0, 1]\n",
        "\n",
        "    self.weights_1 = np.random.random((self.len_inputs, self.len)) # Weights for all inputs\n",
        "    self.weights_2 = np.random.random((self.len, 1)) # Weights for hidden layer\n",
        "\n",
        "  def think(self, input):\n",
        "    out1 = sigmoid(np.dot(input, self.weights_1)) # Dot product of two arrays\n",
        "    out2 = sigmoid(np.dot(out1, self.weights_2))\n",
        "    return out2\n",
        "\n",
        "  def train(self, inputs, labels, iterations):\n",
        "    \n",
        "    for i in range(iterations):\n",
        "\n",
        "      # First do the Forward step\n",
        "\n",
        "      l0 = inputs\n",
        "      l1 = sigmoid(np.dot(l0, self.weights_1))\n",
        "      l2 = sigmoid(np.dot(l1, self.weights_2))\n",
        "\n",
        "      # Calculate error and delta for the gradients\n",
        "\n",
        "      error_l2 = labels - l2\n",
        "      delta_l2 = np.multiply(error_l2, sigmoid_der(l2)) # Gradient layer 2\n",
        "\n",
        "      error_l1 = np.dot(delta_l2, self.weights_2.T) # Why the transpose of weights_2 ?\n",
        "      delta_l1 = np.multiply(error_l1, sigmoid_der(l1)) # Gradient layer 1\n",
        "\n",
        "      # Update weights\n",
        "\n",
        "      self.weights_2 += np.dot(l1.T, delta_l2) # Update weights in layer 2. Where is the learning rate? Why use transpose in calculation?\n",
        "      self.weights_1 += np.dot(l0.T, delta_l1) # Update weights in layer 1."
      ],
      "metadata": {
        "id": "tLOFxBphPItp"
      },
      "execution_count": 62,
      "outputs": []
    },
    {
      "cell_type": "code",
      "source": [
        "X = np.array([\n",
        "    [0, 0],\n",
        "    [1, 0],\n",
        "    [0, 1],\n",
        "    [1, 1],\n",
        "])\n",
        "\n",
        "labels = np.array([[0], [1], [1], [0]])\n",
        "\n",
        "MLP = NeuralNetwork(X)\n",
        "\n",
        "print(\"Before Training\")\n",
        "for x in X:\n",
        "  print( f\"For input {x} : {MLP.think(x)} \")\n",
        "\n",
        "MLP.train(X, labels, 10000)\n",
        "\n",
        "print(\"Trained\")\n",
        "for x in X:\n",
        "  print( f\"For input {x} : {MLP.think(x)} \")"
      ],
      "metadata": {
        "colab": {
          "base_uri": "https://localhost:8080/"
        },
        "id": "Pkbc-aw-RtyJ",
        "outputId": "dc6614a4-3225-4256-e189-a824ec883cbb"
      },
      "execution_count": 63,
      "outputs": [
        {
          "output_type": "stream",
          "name": "stdout",
          "text": [
            "Before Training\n",
            "For input [0 0] : [0.73432403] \n",
            "For input [1 0] : [0.76584074] \n",
            "For input [0 1] : [0.78413284] \n",
            "For input [1 1] : [0.80760195] \n",
            "Trained\n",
            "For input [0 0] : [0.02854559] \n",
            "For input [1 0] : [0.98061389] \n",
            "For input [0 1] : [0.98260142] \n",
            "For input [1 1] : [0.00828875] \n"
          ]
        }
      ]
    }
  ]
}