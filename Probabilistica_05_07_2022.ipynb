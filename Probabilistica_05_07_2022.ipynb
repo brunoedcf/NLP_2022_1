{
  "nbformat": 4,
  "nbformat_minor": 0,
  "metadata": {
    "colab": {
      "name": "Probabilistica_05_07_2022",
      "provenance": [],
      "collapsed_sections": [],
      "authorship_tag": "ABX9TyOnMDY8EbqznwckxFAQxtdJ",
      "include_colab_link": true
    },
    "kernelspec": {
      "name": "python3",
      "display_name": "Python 3"
    },
    "language_info": {
      "name": "python"
    }
  },
  "cells": [
    {
      "cell_type": "markdown",
      "metadata": {
        "id": "view-in-github",
        "colab_type": "text"
      },
      "source": [
        "<a href=\"https://colab.research.google.com/github/brunoedcf/NLP_2022_1/blob/main/Probabilistica_05_07_2022.ipynb\" target=\"_parent\"><img src=\"https://colab.research.google.com/assets/colab-badge.svg\" alt=\"Open In Colab\"/></a>"
      ]
    },
    {
      "cell_type": "code",
      "execution_count": 16,
      "metadata": {
        "id": "AzDRKkdUyUUv"
      },
      "outputs": [],
      "source": [
        "corpus = []\n",
        "corpus.append('Batatinha quando nasce esparrama pelo chão igual batatinha')\n",
        "corpus.append('A pior experiência da minha vida')\n",
        "corpus.append('Quero meu dinheiro de volta pois é meu e é meu')\n",
        "corpus.append('A experiência do dinheiro esparrama minha vida')\n",
        "corpus.append('Acai é a melhor coisa da vida')"
      ]
    },
    {
      "cell_type": "code",
      "source": [
        "def vocab_size(voc):\n",
        "  size = 0\n",
        "  for v in voc:\n",
        "    size += voc[str(v)]\n",
        "\n",
        "  return size"
      ],
      "metadata": {
        "id": "yOoCK3x1GoPP"
      },
      "execution_count": 17,
      "outputs": []
    },
    {
      "cell_type": "code",
      "source": [
        "vocab_count = {}\n",
        "\n",
        "for s in corpus:\n",
        "  for w in s.lower().split():\n",
        "    if w in vocab_count:\n",
        "      vocab_count[w] += 1\n",
        "    else:\n",
        "      vocab_count[w] = 1"
      ],
      "metadata": {
        "id": "FrrbkVRT6xWY"
      },
      "execution_count": 18,
      "outputs": []
    },
    {
      "cell_type": "code",
      "source": [
        "unigram = {}\n",
        "\n",
        "for i, doc in enumerate(corpus):\n",
        "  unigram['sentence {}'.format(i+1)] = dict()\n",
        "  tokens = doc.split()\n",
        "  for word in tokens:\n",
        "    if word in unigram['sentence {}'.format(i+1)]:\n",
        "      unigram['sentence {}'.format(i+1)][word] += 1\n",
        "    else:\n",
        "      unigram['sentence {}'.format(i+1)][word] = 1\n"
      ],
      "metadata": {
        "id": "zmsKewSL6JkX"
      },
      "execution_count": 19,
      "outputs": []
    },
    {
      "cell_type": "code",
      "source": [
        "vocab_count"
      ],
      "metadata": {
        "colab": {
          "base_uri": "https://localhost:8080/"
        },
        "id": "Kbbp9rgzEYaU",
        "outputId": "efdf81c5-ece9-492e-c9c7-1d61e67afbdb"
      },
      "execution_count": 20,
      "outputs": [
        {
          "output_type": "execute_result",
          "data": {
            "text/plain": [
              "{'a': 3,\n",
              " 'acai': 1,\n",
              " 'batatinha': 2,\n",
              " 'chão': 1,\n",
              " 'coisa': 1,\n",
              " 'da': 2,\n",
              " 'de': 1,\n",
              " 'dinheiro': 2,\n",
              " 'do': 1,\n",
              " 'e': 1,\n",
              " 'esparrama': 2,\n",
              " 'experiência': 2,\n",
              " 'igual': 1,\n",
              " 'melhor': 1,\n",
              " 'meu': 3,\n",
              " 'minha': 2,\n",
              " 'nasce': 1,\n",
              " 'pelo': 1,\n",
              " 'pior': 1,\n",
              " 'pois': 1,\n",
              " 'quando': 1,\n",
              " 'quero': 1,\n",
              " 'vida': 3,\n",
              " 'volta': 1,\n",
              " 'é': 3}"
            ]
          },
          "metadata": {},
          "execution_count": 20
        }
      ]
    },
    {
      "cell_type": "code",
      "source": [
        "unigram"
      ],
      "metadata": {
        "colab": {
          "base_uri": "https://localhost:8080/"
        },
        "id": "6BmEbKZL8SIT",
        "outputId": "5181853c-dff4-4c91-f0b0-7525b3eefc3d"
      },
      "execution_count": 21,
      "outputs": [
        {
          "output_type": "execute_result",
          "data": {
            "text/plain": [
              "{'sentence 1': {'Batatinha': 1,\n",
              "  'batatinha': 1,\n",
              "  'chão': 1,\n",
              "  'esparrama': 1,\n",
              "  'igual': 1,\n",
              "  'nasce': 1,\n",
              "  'pelo': 1,\n",
              "  'quando': 1},\n",
              " 'sentence 2': {'A': 1,\n",
              "  'da': 1,\n",
              "  'experiência': 1,\n",
              "  'minha': 1,\n",
              "  'pior': 1,\n",
              "  'vida': 1},\n",
              " 'sentence 3': {'Quero': 1,\n",
              "  'de': 1,\n",
              "  'dinheiro': 1,\n",
              "  'e': 1,\n",
              "  'meu': 3,\n",
              "  'pois': 1,\n",
              "  'volta': 1,\n",
              "  'é': 2},\n",
              " 'sentence 4': {'A': 1,\n",
              "  'dinheiro': 1,\n",
              "  'do': 1,\n",
              "  'esparrama': 1,\n",
              "  'experiência': 1,\n",
              "  'minha': 1,\n",
              "  'vida': 1},\n",
              " 'sentence 5': {'Acai': 1,\n",
              "  'a': 1,\n",
              "  'coisa': 1,\n",
              "  'da': 1,\n",
              "  'melhor': 1,\n",
              "  'vida': 1,\n",
              "  'é': 1}}"
            ]
          },
          "metadata": {},
          "execution_count": 21
        }
      ]
    },
    {
      "cell_type": "code",
      "source": [
        "vocab_bigram = {}"
      ],
      "metadata": {
        "id": "sGsaDCO1EBLH"
      },
      "execution_count": 22,
      "outputs": []
    },
    {
      "cell_type": "code",
      "source": [
        "bigram = {}\n",
        "\n",
        "for i, doc in enumerate(corpus):\n",
        "  bigram['sentence {}'.format(i+1)] = dict()\n",
        "  tokens = doc.split()\n",
        "  for j, word in enumerate(tokens):\n",
        "    if j < len(tokens) - 1:\n",
        "      if word in bigram['sentence {}'.format(i+1)]:\n",
        "        bigram['sentence {}'.format(i+1)][(word, tokens[j+1])] += 1\n",
        "        if (word, tokens[j+1]) in vocab_bigram:\n",
        "          vocab_bigram[(word.lower(), tokens[j+1].lower())] += 1\n",
        "        else:\n",
        "          vocab_bigram[(word.lower(), tokens[j+1].lower())] = 1\n",
        "      else:\n",
        "        bigram['sentence {}'.format(i+1)][(word, tokens[j+1])] = 1\n",
        "        if (word, tokens[j+1]) in vocab_bigram:\n",
        "          vocab_bigram[(word.lower(), tokens[j+1].lower())] += 1\n",
        "        else:\n",
        "          vocab_bigram[(word.lower(), tokens[j+1].lower())] = 1"
      ],
      "metadata": {
        "id": "HXmQz70p7G_y"
      },
      "execution_count": 23,
      "outputs": []
    },
    {
      "cell_type": "code",
      "source": [
        "vocab_bigram"
      ],
      "metadata": {
        "colab": {
          "base_uri": "https://localhost:8080/"
        },
        "id": "IaGlDI5AFqJ1",
        "outputId": "d60548fd-2407-4e36-8626-e07c0aa40681"
      },
      "execution_count": 24,
      "outputs": [
        {
          "output_type": "execute_result",
          "data": {
            "text/plain": [
              "{('a', 'experiência'): 1,\n",
              " ('a', 'melhor'): 1,\n",
              " ('a', 'pior'): 1,\n",
              " ('acai', 'é'): 1,\n",
              " ('batatinha', 'quando'): 1,\n",
              " ('chão', 'igual'): 1,\n",
              " ('coisa', 'da'): 1,\n",
              " ('da', 'minha'): 1,\n",
              " ('da', 'vida'): 1,\n",
              " ('de', 'volta'): 1,\n",
              " ('dinheiro', 'de'): 1,\n",
              " ('dinheiro', 'esparrama'): 1,\n",
              " ('do', 'dinheiro'): 1,\n",
              " ('e', 'é'): 1,\n",
              " ('esparrama', 'minha'): 1,\n",
              " ('esparrama', 'pelo'): 1,\n",
              " ('experiência', 'da'): 1,\n",
              " ('experiência', 'do'): 1,\n",
              " ('igual', 'batatinha'): 1,\n",
              " ('melhor', 'coisa'): 1,\n",
              " ('meu', 'dinheiro'): 1,\n",
              " ('meu', 'e'): 1,\n",
              " ('minha', 'vida'): 2,\n",
              " ('nasce', 'esparrama'): 1,\n",
              " ('pelo', 'chão'): 1,\n",
              " ('pior', 'experiência'): 1,\n",
              " ('pois', 'é'): 1,\n",
              " ('quando', 'nasce'): 1,\n",
              " ('quero', 'meu'): 1,\n",
              " ('volta', 'pois'): 1,\n",
              " ('é', 'a'): 1,\n",
              " ('é', 'meu'): 2}"
            ]
          },
          "metadata": {},
          "execution_count": 24
        }
      ]
    },
    {
      "cell_type": "code",
      "source": [
        "bigram"
      ],
      "metadata": {
        "colab": {
          "base_uri": "https://localhost:8080/"
        },
        "id": "OBGRapon8CLZ",
        "outputId": "913a266e-a139-4e2b-fab1-82d69a1cf7dd"
      },
      "execution_count": 25,
      "outputs": [
        {
          "output_type": "execute_result",
          "data": {
            "text/plain": [
              "{'sentence 1': {('Batatinha', 'quando'): 1,\n",
              "  ('chão', 'igual'): 1,\n",
              "  ('esparrama', 'pelo'): 1,\n",
              "  ('igual', 'batatinha'): 1,\n",
              "  ('nasce', 'esparrama'): 1,\n",
              "  ('pelo', 'chão'): 1,\n",
              "  ('quando', 'nasce'): 1},\n",
              " 'sentence 2': {('A', 'pior'): 1,\n",
              "  ('da', 'minha'): 1,\n",
              "  ('experiência', 'da'): 1,\n",
              "  ('minha', 'vida'): 1,\n",
              "  ('pior', 'experiência'): 1},\n",
              " 'sentence 3': {('Quero', 'meu'): 1,\n",
              "  ('de', 'volta'): 1,\n",
              "  ('dinheiro', 'de'): 1,\n",
              "  ('e', 'é'): 1,\n",
              "  ('meu', 'dinheiro'): 1,\n",
              "  ('meu', 'e'): 1,\n",
              "  ('pois', 'é'): 1,\n",
              "  ('volta', 'pois'): 1,\n",
              "  ('é', 'meu'): 1},\n",
              " 'sentence 4': {('A', 'experiência'): 1,\n",
              "  ('dinheiro', 'esparrama'): 1,\n",
              "  ('do', 'dinheiro'): 1,\n",
              "  ('esparrama', 'minha'): 1,\n",
              "  ('experiência', 'do'): 1,\n",
              "  ('minha', 'vida'): 1},\n",
              " 'sentence 5': {('Acai', 'é'): 1,\n",
              "  ('a', 'melhor'): 1,\n",
              "  ('coisa', 'da'): 1,\n",
              "  ('da', 'vida'): 1,\n",
              "  ('melhor', 'coisa'): 1,\n",
              "  ('é', 'a'): 1}}"
            ]
          },
          "metadata": {},
          "execution_count": 25
        }
      ]
    },
    {
      "cell_type": "code",
      "source": [
        "from math import log\n",
        "\n",
        "phrase = 'Batatinha quando nasce esparrama pelo chão igual batatinha'.lower().split()\n",
        "\n",
        "res = 0\n",
        "\n",
        "res = log( vocab_count[phrase[0]] / vocab_size(vocab_count) )\n",
        "\n",
        "for i in range(1, len(phrase)):\n",
        "  \n",
        "  res += log((vocab_bigram[(phrase[i-1], phrase[i])]/vocab_count[phrase[i]]))\n",
        "\n",
        "res"
      ],
      "metadata": {
        "colab": {
          "base_uri": "https://localhost:8080/"
        },
        "id": "0xzeGlzZ29qU",
        "outputId": "77b8c3e3-f454-4e44-e38e-3d7295bf6d99"
      },
      "execution_count": 26,
      "outputs": [
        {
          "output_type": "execute_result",
          "data": {
            "text/plain": [
              "-4.356708826689592"
            ]
          },
          "metadata": {},
          "execution_count": 26
        }
      ]
    }
  ]
}